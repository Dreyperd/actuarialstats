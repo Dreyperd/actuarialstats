{
 "cells": [
  {
   "cell_type": "code",
   "execution_count": 1,
   "outputs": [],
   "source": [
    "import pandas as pd"
   ],
   "metadata": {
    "collapsed": false,
    "pycharm": {
     "name": "#%%\n"
    }
   }
  },
  {
   "cell_type": "code",
   "execution_count": 2,
   "outputs": [],
   "source": [
    "d1 = pd.read_csv(\"Bangalore_1990_2022_BangaloreCity.csv\")\n",
    "d1 = pd.concat([d1, pd.Series([\"Bangalore\"]*len(d1))], axis=1)"
   ],
   "metadata": {
    "collapsed": false,
    "pycharm": {
     "name": "#%%\n"
    }
   }
  },
  {
   "cell_type": "code",
   "execution_count": 3,
   "outputs": [],
   "source": [
    "d2 = pd.read_csv(\"Chennai_1990_2022_Madras.csv\")\n",
    "d2 = pd.concat([d2, pd.Series([\"Chennai\"]*len(d2))], axis=1)"
   ],
   "metadata": {
    "collapsed": false,
    "pycharm": {
     "name": "#%%\n"
    }
   }
  },
  {
   "cell_type": "code",
   "execution_count": 4,
   "outputs": [],
   "source": [
    "d3 = pd.read_csv(\"Delhi_NCR_1990_2022_Safdarjung.csv\")\n",
    "d3 = pd.concat([d3, pd.Series([\"Dehli\"]*len(d3))], axis=1)"
   ],
   "metadata": {
    "collapsed": false,
    "pycharm": {
     "name": "#%%\n"
    }
   }
  },
  {
   "cell_type": "code",
   "execution_count": 5,
   "outputs": [],
   "source": [
    "d4 = pd.read_csv(\"Lucknow_1990_2022.csv\")\n",
    "d4 = pd.concat([d4, pd.Series([\"Lucknow\"]*len(d4))], axis=1)"
   ],
   "metadata": {
    "collapsed": false,
    "pycharm": {
     "name": "#%%\n"
    }
   }
  },
  {
   "cell_type": "code",
   "execution_count": 6,
   "outputs": [],
   "source": [
    "d5 = pd.read_csv(\"Mumbai_1990_2022_Santacruz.csv\")\n",
    "d5 = pd.concat([d5, pd.Series([\"Mumbai\"]*len(d5))], axis=1)"
   ],
   "metadata": {
    "collapsed": false,
    "pycharm": {
     "name": "#%%\n"
    }
   }
  },
  {
   "cell_type": "code",
   "execution_count": 7,
   "outputs": [],
   "source": [
    "d6 = pd.read_csv(\"Rajasthan_1990_2022_Jodhpur.csv\")\n",
    "d6 = pd.concat([d6, pd.Series([\"Rajasthan\"]*len(d6))], axis=1)"
   ],
   "metadata": {
    "collapsed": false,
    "pycharm": {
     "name": "#%%\n"
    }
   }
  },
  {
   "cell_type": "code",
   "execution_count": 8,
   "outputs": [],
   "source": [
    "df_india = pd.concat([d1, d2, d3, d4, d5, d6])\n",
    "df_india = df_india.dropna()\n",
    "df_india = df_india.reset_index(drop=True)\n",
    "df_india = pd.concat([df_india, round(df_india.prcp, -1)], axis=1)\n",
    "df_india.columns = [\"time\", \"avg_temp\", \"min_temp\", \"max_temp\", \"precipitation\", \"location\", \"precipitation_rounded\"]"
   ],
   "metadata": {
    "collapsed": false,
    "pycharm": {
     "name": "#%%\n"
    }
   }
  },
  {
   "cell_type": "code",
   "execution_count": 15,
   "outputs": [
    {
     "data": {
      "text/plain": "             time  avg_temp  min_temp  max_temp  precipitation   location  \\\n0      03-01-1990      21.0      16.4      26.5            0.0  Bangalore   \n1      05-01-1990      20.4      14.2      26.1            0.0  Bangalore   \n2      08-01-1990      20.0      16.6      25.1            0.0  Bangalore   \n3      10-01-1990      21.2      15.0      27.7            0.0  Bangalore   \n4      11-01-1990      21.8      16.0      28.5            0.0  Bangalore   \n...           ...       ...       ...       ...            ...        ...   \n29597  21-07-2022      23.7      20.5      30.8           82.5  Rajasthan   \n29598  22-07-2022      23.2      21.1      27.9            0.0  Rajasthan   \n29599  23-07-2022      23.1      20.9      26.7            0.0  Rajasthan   \n29600  24-07-2022      22.8      20.0      26.7            0.3  Rajasthan   \n29601  25-07-2022      24.1      20.2      28.5            0.5  Rajasthan   \n\n       precipitation_rounded  \n0                        0.0  \n1                        0.0  \n2                        0.0  \n3                        0.0  \n4                        0.0  \n...                      ...  \n29597                   80.0  \n29598                    0.0  \n29599                    0.0  \n29600                    0.0  \n29601                    0.0  \n\n[29602 rows x 7 columns]",
      "text/html": "<div>\n<style scoped>\n    .dataframe tbody tr th:only-of-type {\n        vertical-align: middle;\n    }\n\n    .dataframe tbody tr th {\n        vertical-align: top;\n    }\n\n    .dataframe thead th {\n        text-align: right;\n    }\n</style>\n<table border=\"1\" class=\"dataframe\">\n  <thead>\n    <tr style=\"text-align: right;\">\n      <th></th>\n      <th>time</th>\n      <th>avg_temp</th>\n      <th>min_temp</th>\n      <th>max_temp</th>\n      <th>precipitation</th>\n      <th>location</th>\n      <th>precipitation_rounded</th>\n    </tr>\n  </thead>\n  <tbody>\n    <tr>\n      <th>0</th>\n      <td>03-01-1990</td>\n      <td>21.0</td>\n      <td>16.4</td>\n      <td>26.5</td>\n      <td>0.0</td>\n      <td>Bangalore</td>\n      <td>0.0</td>\n    </tr>\n    <tr>\n      <th>1</th>\n      <td>05-01-1990</td>\n      <td>20.4</td>\n      <td>14.2</td>\n      <td>26.1</td>\n      <td>0.0</td>\n      <td>Bangalore</td>\n      <td>0.0</td>\n    </tr>\n    <tr>\n      <th>2</th>\n      <td>08-01-1990</td>\n      <td>20.0</td>\n      <td>16.6</td>\n      <td>25.1</td>\n      <td>0.0</td>\n      <td>Bangalore</td>\n      <td>0.0</td>\n    </tr>\n    <tr>\n      <th>3</th>\n      <td>10-01-1990</td>\n      <td>21.2</td>\n      <td>15.0</td>\n      <td>27.7</td>\n      <td>0.0</td>\n      <td>Bangalore</td>\n      <td>0.0</td>\n    </tr>\n    <tr>\n      <th>4</th>\n      <td>11-01-1990</td>\n      <td>21.8</td>\n      <td>16.0</td>\n      <td>28.5</td>\n      <td>0.0</td>\n      <td>Bangalore</td>\n      <td>0.0</td>\n    </tr>\n    <tr>\n      <th>...</th>\n      <td>...</td>\n      <td>...</td>\n      <td>...</td>\n      <td>...</td>\n      <td>...</td>\n      <td>...</td>\n      <td>...</td>\n    </tr>\n    <tr>\n      <th>29597</th>\n      <td>21-07-2022</td>\n      <td>23.7</td>\n      <td>20.5</td>\n      <td>30.8</td>\n      <td>82.5</td>\n      <td>Rajasthan</td>\n      <td>80.0</td>\n    </tr>\n    <tr>\n      <th>29598</th>\n      <td>22-07-2022</td>\n      <td>23.2</td>\n      <td>21.1</td>\n      <td>27.9</td>\n      <td>0.0</td>\n      <td>Rajasthan</td>\n      <td>0.0</td>\n    </tr>\n    <tr>\n      <th>29599</th>\n      <td>23-07-2022</td>\n      <td>23.1</td>\n      <td>20.9</td>\n      <td>26.7</td>\n      <td>0.0</td>\n      <td>Rajasthan</td>\n      <td>0.0</td>\n    </tr>\n    <tr>\n      <th>29600</th>\n      <td>24-07-2022</td>\n      <td>22.8</td>\n      <td>20.0</td>\n      <td>26.7</td>\n      <td>0.3</td>\n      <td>Rajasthan</td>\n      <td>0.0</td>\n    </tr>\n    <tr>\n      <th>29601</th>\n      <td>25-07-2022</td>\n      <td>24.1</td>\n      <td>20.2</td>\n      <td>28.5</td>\n      <td>0.5</td>\n      <td>Rajasthan</td>\n      <td>0.0</td>\n    </tr>\n  </tbody>\n</table>\n<p>29602 rows × 7 columns</p>\n</div>"
     },
     "execution_count": 15,
     "metadata": {},
     "output_type": "execute_result"
    }
   ],
   "source": [
    "df_india"
   ],
   "metadata": {
    "collapsed": false,
    "pycharm": {
     "name": "#%%\n"
    }
   }
  },
  {
   "cell_type": "code",
   "execution_count": 19,
   "outputs": [],
   "source": [
    "df_india['time'] = pd.to_datetime(df_india['time'])\n",
    "df_india = df_india.sort_values(by=['location', 'time']).reset_index(drop=True)"
   ],
   "metadata": {
    "collapsed": false,
    "pycharm": {
     "name": "#%%\n"
    }
   }
  },
  {
   "cell_type": "code",
   "execution_count": 20,
   "outputs": [
    {
     "data": {
      "text/plain": "            time  avg_temp  min_temp  max_temp  precipitation   location  \\\n0     1990-01-02      22.4      13.5      31.6            0.0  Bangalore   \n1     1990-01-03      26.0      21.4      31.5            0.0  Bangalore   \n2     1990-01-06      25.5      20.0      32.0            0.0  Bangalore   \n3     1990-01-07      22.7      19.6      28.3            0.0  Bangalore   \n4     1990-01-08      22.4      20.3      30.4            0.0  Bangalore   \n...          ...       ...       ...       ...            ...        ...   \n29597 2022-12-03      25.5      18.1      33.0            0.0  Rajasthan   \n29598 2022-12-04      26.7      20.5      34.0            0.0  Rajasthan   \n29599 2022-12-05      21.3      19.5      25.0            5.3  Rajasthan   \n29600 2022-12-06      23.0      19.7      28.8           10.0  Rajasthan   \n29601 2022-12-07      23.2      19.8      27.5            4.6  Rajasthan   \n\n       precipitation_rounded  \n0                        0.0  \n1                        0.0  \n2                        0.0  \n3                        0.0  \n4                        0.0  \n...                      ...  \n29597                    0.0  \n29598                    0.0  \n29599                   10.0  \n29600                   10.0  \n29601                    0.0  \n\n[29602 rows x 7 columns]",
      "text/html": "<div>\n<style scoped>\n    .dataframe tbody tr th:only-of-type {\n        vertical-align: middle;\n    }\n\n    .dataframe tbody tr th {\n        vertical-align: top;\n    }\n\n    .dataframe thead th {\n        text-align: right;\n    }\n</style>\n<table border=\"1\" class=\"dataframe\">\n  <thead>\n    <tr style=\"text-align: right;\">\n      <th></th>\n      <th>time</th>\n      <th>avg_temp</th>\n      <th>min_temp</th>\n      <th>max_temp</th>\n      <th>precipitation</th>\n      <th>location</th>\n      <th>precipitation_rounded</th>\n    </tr>\n  </thead>\n  <tbody>\n    <tr>\n      <th>0</th>\n      <td>1990-01-02</td>\n      <td>22.4</td>\n      <td>13.5</td>\n      <td>31.6</td>\n      <td>0.0</td>\n      <td>Bangalore</td>\n      <td>0.0</td>\n    </tr>\n    <tr>\n      <th>1</th>\n      <td>1990-01-03</td>\n      <td>26.0</td>\n      <td>21.4</td>\n      <td>31.5</td>\n      <td>0.0</td>\n      <td>Bangalore</td>\n      <td>0.0</td>\n    </tr>\n    <tr>\n      <th>2</th>\n      <td>1990-01-06</td>\n      <td>25.5</td>\n      <td>20.0</td>\n      <td>32.0</td>\n      <td>0.0</td>\n      <td>Bangalore</td>\n      <td>0.0</td>\n    </tr>\n    <tr>\n      <th>3</th>\n      <td>1990-01-07</td>\n      <td>22.7</td>\n      <td>19.6</td>\n      <td>28.3</td>\n      <td>0.0</td>\n      <td>Bangalore</td>\n      <td>0.0</td>\n    </tr>\n    <tr>\n      <th>4</th>\n      <td>1990-01-08</td>\n      <td>22.4</td>\n      <td>20.3</td>\n      <td>30.4</td>\n      <td>0.0</td>\n      <td>Bangalore</td>\n      <td>0.0</td>\n    </tr>\n    <tr>\n      <th>...</th>\n      <td>...</td>\n      <td>...</td>\n      <td>...</td>\n      <td>...</td>\n      <td>...</td>\n      <td>...</td>\n      <td>...</td>\n    </tr>\n    <tr>\n      <th>29597</th>\n      <td>2022-12-03</td>\n      <td>25.5</td>\n      <td>18.1</td>\n      <td>33.0</td>\n      <td>0.0</td>\n      <td>Rajasthan</td>\n      <td>0.0</td>\n    </tr>\n    <tr>\n      <th>29598</th>\n      <td>2022-12-04</td>\n      <td>26.7</td>\n      <td>20.5</td>\n      <td>34.0</td>\n      <td>0.0</td>\n      <td>Rajasthan</td>\n      <td>0.0</td>\n    </tr>\n    <tr>\n      <th>29599</th>\n      <td>2022-12-05</td>\n      <td>21.3</td>\n      <td>19.5</td>\n      <td>25.0</td>\n      <td>5.3</td>\n      <td>Rajasthan</td>\n      <td>10.0</td>\n    </tr>\n    <tr>\n      <th>29600</th>\n      <td>2022-12-06</td>\n      <td>23.0</td>\n      <td>19.7</td>\n      <td>28.8</td>\n      <td>10.0</td>\n      <td>Rajasthan</td>\n      <td>10.0</td>\n    </tr>\n    <tr>\n      <th>29601</th>\n      <td>2022-12-07</td>\n      <td>23.2</td>\n      <td>19.8</td>\n      <td>27.5</td>\n      <td>4.6</td>\n      <td>Rajasthan</td>\n      <td>0.0</td>\n    </tr>\n  </tbody>\n</table>\n<p>29602 rows × 7 columns</p>\n</div>"
     },
     "execution_count": 20,
     "metadata": {},
     "output_type": "execute_result"
    }
   ],
   "source": [
    "df_india"
   ],
   "metadata": {
    "collapsed": false,
    "pycharm": {
     "name": "#%%\n"
    }
   }
  },
  {
   "cell_type": "code",
   "execution_count": 22,
   "outputs": [
    {
     "data": {
      "text/plain": "0         0.0\n1         0.0\n2         0.0\n3         0.0\n4         0.0\n         ... \n29597     0.0\n29598     0.0\n29599    10.0\n29600    10.0\n29601     0.0\nName: precipitation_rounded, Length: 29602, dtype: float64"
     },
     "execution_count": 22,
     "metadata": {},
     "output_type": "execute_result"
    }
   ],
   "source": [
    "df_final = df_india['precipitation_rounded']"
   ],
   "metadata": {
    "collapsed": false,
    "pycharm": {
     "name": "#%%\n"
    }
   }
  },
  {
   "cell_type": "code",
   "execution_count": 21,
   "outputs": [],
   "source": [
    "df_india.to_csv(\"/Users/dreyerswart/Desktop/CODING_PROJECTS/actuarialstats/india_rainfall.csv\")"
   ],
   "metadata": {
    "collapsed": false,
    "pycharm": {
     "name": "#%%\n"
    }
   }
  },
  {
   "cell_type": "code",
   "execution_count": 23,
   "outputs": [],
   "source": [
    "df_final.to_csv(\"/Users/dreyerswart/Desktop/CODING_PROJECTS/actuarialstats/mc_data.csv\")"
   ],
   "metadata": {
    "collapsed": false,
    "pycharm": {
     "name": "#%%\n"
    }
   }
  },
  {
   "cell_type": "code",
   "execution_count": null,
   "outputs": [],
   "source": [],
   "metadata": {
    "collapsed": false,
    "pycharm": {
     "name": "#%%\n"
    }
   }
  }
 ],
 "metadata": {
  "kernelspec": {
   "display_name": "Python 3",
   "language": "python",
   "name": "python3"
  },
  "language_info": {
   "codemirror_mode": {
    "name": "ipython",
    "version": 2
   },
   "file_extension": ".py",
   "mimetype": "text/x-python",
   "name": "python",
   "nbconvert_exporter": "python",
   "pygments_lexer": "ipython2",
   "version": "2.7.6"
  }
 },
 "nbformat": 4,
 "nbformat_minor": 0
}